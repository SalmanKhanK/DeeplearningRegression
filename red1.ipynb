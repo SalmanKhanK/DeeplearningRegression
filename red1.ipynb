{
 "cells": [
  {
   "cell_type": "code",
   "execution_count": 1,
   "metadata": {},
   "outputs": [],
   "source": [
    "import numpy as np\n",
    "import pandas as pd\n",
    "import tensorflow as tf\n",
    "%matplotlib inline\n",
    "import matplotlib.pyplot as plt"
   ]
  },
  {
   "cell_type": "code",
   "execution_count": 2,
   "metadata": {},
   "outputs": [
    {
     "data": {
      "text/html": [
       "<div>\n",
       "<style scoped>\n",
       "    .dataframe tbody tr th:only-of-type {\n",
       "        vertical-align: middle;\n",
       "    }\n",
       "\n",
       "    .dataframe tbody tr th {\n",
       "        vertical-align: top;\n",
       "    }\n",
       "\n",
       "    .dataframe thead th {\n",
       "        text-align: right;\n",
       "    }\n",
       "</style>\n",
       "<table border=\"1\" class=\"dataframe\">\n",
       "  <thead>\n",
       "    <tr style=\"text-align: right;\">\n",
       "      <th></th>\n",
       "      <th>cement</th>\n",
       "      <th>slag</th>\n",
       "      <th>flyash</th>\n",
       "      <th>water</th>\n",
       "      <th>superplasticizer</th>\n",
       "      <th>coarseaggregate</th>\n",
       "      <th>fineaggregate</th>\n",
       "      <th>age</th>\n",
       "      <th>csMPa</th>\n",
       "    </tr>\n",
       "  </thead>\n",
       "  <tbody>\n",
       "    <tr>\n",
       "      <td>0</td>\n",
       "      <td>540.0</td>\n",
       "      <td>0.0</td>\n",
       "      <td>0.0</td>\n",
       "      <td>162.0</td>\n",
       "      <td>2.5</td>\n",
       "      <td>1040.0</td>\n",
       "      <td>676.0</td>\n",
       "      <td>28</td>\n",
       "      <td>79.99</td>\n",
       "    </tr>\n",
       "    <tr>\n",
       "      <td>1</td>\n",
       "      <td>540.0</td>\n",
       "      <td>0.0</td>\n",
       "      <td>0.0</td>\n",
       "      <td>162.0</td>\n",
       "      <td>2.5</td>\n",
       "      <td>1055.0</td>\n",
       "      <td>676.0</td>\n",
       "      <td>28</td>\n",
       "      <td>61.89</td>\n",
       "    </tr>\n",
       "    <tr>\n",
       "      <td>2</td>\n",
       "      <td>332.5</td>\n",
       "      <td>142.5</td>\n",
       "      <td>0.0</td>\n",
       "      <td>228.0</td>\n",
       "      <td>0.0</td>\n",
       "      <td>932.0</td>\n",
       "      <td>594.0</td>\n",
       "      <td>270</td>\n",
       "      <td>40.27</td>\n",
       "    </tr>\n",
       "    <tr>\n",
       "      <td>3</td>\n",
       "      <td>332.5</td>\n",
       "      <td>142.5</td>\n",
       "      <td>0.0</td>\n",
       "      <td>228.0</td>\n",
       "      <td>0.0</td>\n",
       "      <td>932.0</td>\n",
       "      <td>594.0</td>\n",
       "      <td>365</td>\n",
       "      <td>41.05</td>\n",
       "    </tr>\n",
       "    <tr>\n",
       "      <td>4</td>\n",
       "      <td>198.6</td>\n",
       "      <td>132.4</td>\n",
       "      <td>0.0</td>\n",
       "      <td>192.0</td>\n",
       "      <td>0.0</td>\n",
       "      <td>978.4</td>\n",
       "      <td>825.5</td>\n",
       "      <td>360</td>\n",
       "      <td>44.30</td>\n",
       "    </tr>\n",
       "    <tr>\n",
       "      <td>...</td>\n",
       "      <td>...</td>\n",
       "      <td>...</td>\n",
       "      <td>...</td>\n",
       "      <td>...</td>\n",
       "      <td>...</td>\n",
       "      <td>...</td>\n",
       "      <td>...</td>\n",
       "      <td>...</td>\n",
       "      <td>...</td>\n",
       "    </tr>\n",
       "    <tr>\n",
       "      <td>1025</td>\n",
       "      <td>276.4</td>\n",
       "      <td>116.0</td>\n",
       "      <td>90.3</td>\n",
       "      <td>179.6</td>\n",
       "      <td>8.9</td>\n",
       "      <td>870.1</td>\n",
       "      <td>768.3</td>\n",
       "      <td>28</td>\n",
       "      <td>44.28</td>\n",
       "    </tr>\n",
       "    <tr>\n",
       "      <td>1026</td>\n",
       "      <td>322.2</td>\n",
       "      <td>0.0</td>\n",
       "      <td>115.6</td>\n",
       "      <td>196.0</td>\n",
       "      <td>10.4</td>\n",
       "      <td>817.9</td>\n",
       "      <td>813.4</td>\n",
       "      <td>28</td>\n",
       "      <td>31.18</td>\n",
       "    </tr>\n",
       "    <tr>\n",
       "      <td>1027</td>\n",
       "      <td>148.5</td>\n",
       "      <td>139.4</td>\n",
       "      <td>108.6</td>\n",
       "      <td>192.7</td>\n",
       "      <td>6.1</td>\n",
       "      <td>892.4</td>\n",
       "      <td>780.0</td>\n",
       "      <td>28</td>\n",
       "      <td>23.70</td>\n",
       "    </tr>\n",
       "    <tr>\n",
       "      <td>1028</td>\n",
       "      <td>159.1</td>\n",
       "      <td>186.7</td>\n",
       "      <td>0.0</td>\n",
       "      <td>175.6</td>\n",
       "      <td>11.3</td>\n",
       "      <td>989.6</td>\n",
       "      <td>788.9</td>\n",
       "      <td>28</td>\n",
       "      <td>32.77</td>\n",
       "    </tr>\n",
       "    <tr>\n",
       "      <td>1029</td>\n",
       "      <td>260.9</td>\n",
       "      <td>100.5</td>\n",
       "      <td>78.3</td>\n",
       "      <td>200.6</td>\n",
       "      <td>8.6</td>\n",
       "      <td>864.5</td>\n",
       "      <td>761.5</td>\n",
       "      <td>28</td>\n",
       "      <td>32.40</td>\n",
       "    </tr>\n",
       "  </tbody>\n",
       "</table>\n",
       "<p>1030 rows × 9 columns</p>\n",
       "</div>"
      ],
      "text/plain": [
       "      cement   slag  flyash  water  superplasticizer  coarseaggregate  \\\n",
       "0      540.0    0.0     0.0  162.0               2.5           1040.0   \n",
       "1      540.0    0.0     0.0  162.0               2.5           1055.0   \n",
       "2      332.5  142.5     0.0  228.0               0.0            932.0   \n",
       "3      332.5  142.5     0.0  228.0               0.0            932.0   \n",
       "4      198.6  132.4     0.0  192.0               0.0            978.4   \n",
       "...      ...    ...     ...    ...               ...              ...   \n",
       "1025   276.4  116.0    90.3  179.6               8.9            870.1   \n",
       "1026   322.2    0.0   115.6  196.0              10.4            817.9   \n",
       "1027   148.5  139.4   108.6  192.7               6.1            892.4   \n",
       "1028   159.1  186.7     0.0  175.6              11.3            989.6   \n",
       "1029   260.9  100.5    78.3  200.6               8.6            864.5   \n",
       "\n",
       "      fineaggregate  age  csMPa  \n",
       "0             676.0   28  79.99  \n",
       "1             676.0   28  61.89  \n",
       "2             594.0  270  40.27  \n",
       "3             594.0  365  41.05  \n",
       "4             825.5  360  44.30  \n",
       "...             ...  ...    ...  \n",
       "1025          768.3   28  44.28  \n",
       "1026          813.4   28  31.18  \n",
       "1027          780.0   28  23.70  \n",
       "1028          788.9   28  32.77  \n",
       "1029          761.5   28  32.40  \n",
       "\n",
       "[1030 rows x 9 columns]"
      ]
     },
     "execution_count": 2,
     "metadata": {},
     "output_type": "execute_result"
    }
   ],
   "source": [
    "#tf.__version__\n",
    "data=pd.read_csv('Concrete_Data_Yeh.csv')\n",
    "data"
   ]
  },
  {
   "cell_type": "code",
   "execution_count": 7,
   "metadata": {},
   "outputs": [],
   "source": [
    "X=data['water']\n",
    "y_true=data['cement']\n"
   ]
  },
  {
   "cell_type": "code",
   "execution_count": 8,
   "metadata": {},
   "outputs": [],
   "source": [
    "def line(x,w=0,b=0):\n",
    "    return w*x+b\n",
    "def mean_squared_error(y_true,y_pred):\n",
    "    s=(y_true-y_pred)**2\n",
    "    return np.sqrt(s.mean())    #hamy is error ko kam se kam karna huta hai or accuracy\n",
    "                                #ko barhana huta hai"
   ]
  },
  {
   "cell_type": "code",
   "execution_count": 9,
   "metadata": {},
   "outputs": [
    {
     "data": {
      "text/plain": [
       "Text(0.5, 0, 'b')"
      ]
     },
     "execution_count": 9,
     "metadata": {},
     "output_type": "execute_result"
    },
    {
     "data": {
      "image/png": "[encoded data removed]",
      "text/plain": [
       "<Figure size 720x360 with 2 Axes>"
      ]
     },
     "metadata": {
      "needs_background": "light"
     },
     "output_type": "display_data"
    }
   ],
   "source": [
    "plt.figure(figsize=(10,5))\n",
    "ax1=plt.subplot(121)\n",
    "data.plot(kind='scatter',\n",
    "       x=\"water\",\n",
    "       y=\"cement\",\n",
    "       title='how many water will use',ax=ax1)\n",
    "bs=np.array([-100,-50,0,50,100,150])\n",
    "mses=[]\n",
    "for b in bs:\n",
    "    y_pred=line(X,w=2,b=b)\n",
    "    mse=mean_squared_error(y_true,y_pred)\n",
    "    mses.append(mse)\n",
    "    plt.plot(X,y_pred)\n",
    "ax2=plt.subplot(122)\n",
    "plt.plot(bs,mses,'o-')\n",
    "plt.title('cost as a function of b')\n",
    "plt.xlabel('b')"
   ]
  },
  {
   "cell_type": "code",
   "execution_count": 10,
   "metadata": {},
   "outputs": [],
   "source": [
    "from tensorflow.keras.models import Sequential\n",
    "from tensorflow.keras.layers import Dense\n",
    "from tensorflow.keras.optimizers import Adam,SGD\n"
   ]
  },
  {
   "cell_type": "code",
   "execution_count": 11,
   "metadata": {},
   "outputs": [],
   "source": [
    "model=Sequential()\n",
    "model.add(Dense(1,input_shape=(1,)))"
   ]
  },
  {
   "cell_type": "code",
   "execution_count": 12,
   "metadata": {},
   "outputs": [
    {
     "name": "stdout",
     "output_type": "stream",
     "text": [
      "Model: \"sequential\"\n",
      "_________________________________________________________________\n",
      "Layer (type)                 Output Shape              Param #   \n",
      "=================================================================\n",
      "dense (Dense)                (None, 1)                 2         \n",
      "=================================================================\n",
      "Total params: 2\n",
      "Trainable params: 2\n",
      "Non-trainable params: 0\n",
      "_________________________________________________________________\n"
     ]
    }
   ],
   "source": [
    "model.summary()"
   ]
  },
  {
   "cell_type": "code",
   "execution_count": 13,
   "metadata": {},
   "outputs": [],
   "source": [
    "model.compile(Adam(lr=0.8),'mean_squared_error')"
   ]
  },
  {
   "cell_type": "code",
   "execution_count": 14,
   "metadata": {},
   "outputs": [
    {
     "name": "stdout",
     "output_type": "stream",
     "text": [
      "WARNING:tensorflow:Falling back from v2 loop because of error: Failed to find data adapter that can handle input: <class 'pandas.core.series.Series'>, <class 'NoneType'>\n",
      "Train on 1030 samples\n",
      "Epoch 1/40\n",
      "1030/1030 [==============================] - 1s 839us/sample - loss: 15192.0167\n",
      "Epoch 2/40\n",
      "1030/1030 [==============================] - 0s 93us/sample - loss: 13219.1581\n",
      "Epoch 3/40\n",
      "1030/1030 [==============================] - 0s 70us/sample - loss: 13534.7563\n",
      "Epoch 4/40\n",
      "1030/1030 [==============================] - 0s 47us/sample - loss: 13527.1193\n",
      "Epoch 5/40\n",
      "1030/1030 [==============================] - 0s 47us/sample - loss: 13067.9665\n",
      "Epoch 6/40\n",
      "1030/1030 [==============================] - 0s 47us/sample - loss: 12610.3116\n",
      "Epoch 7/40\n",
      "1030/1030 [==============================] - 0s 43us/sample - loss: 12890.8290\n",
      "Epoch 8/40\n",
      "1030/1030 [==============================] - 0s 43us/sample - loss: 13863.9123\n",
      "Epoch 9/40\n",
      "1030/1030 [==============================] - 0s 50us/sample - loss: 13495.6056\n",
      "Epoch 10/40\n",
      "1030/1030 [==============================] - 0s 47us/sample - loss: 12603.8061\n",
      "Epoch 11/40\n",
      "1030/1030 [==============================] - 0s 50us/sample - loss: 12606.6264\n",
      "Epoch 12/40\n",
      "1030/1030 [==============================] - 0s 47us/sample - loss: 13063.8357\n",
      "Epoch 13/40\n",
      "1030/1030 [==============================] - 0s 50us/sample - loss: 14012.5841\n",
      "Epoch 14/40\n",
      "1030/1030 [==============================] - 0s 43us/sample - loss: 13047.6196\n",
      "Epoch 15/40\n",
      "1030/1030 [==============================] - 0s 43us/sample - loss: 14406.3313\n",
      "Epoch 16/40\n",
      "1030/1030 [==============================] - 0s 51us/sample - loss: 12877.9763\n",
      "Epoch 17/40\n",
      "1030/1030 [==============================] - 0s 47us/sample - loss: 13283.4903\n",
      "Epoch 18/40\n",
      "1030/1030 [==============================] - 0s 49us/sample - loss: 12627.5739\n",
      "Epoch 19/40\n",
      "1030/1030 [==============================] - 0s 58us/sample - loss: 12364.7977\n",
      "Epoch 20/40\n",
      "1030/1030 [==============================] - 0s 66us/sample - loss: 12615.6171\n",
      "Epoch 21/40\n",
      "1030/1030 [==============================] - 0s 47us/sample - loss: 13415.6043\n",
      "Epoch 22/40\n",
      "1030/1030 [==============================] - 0s 43us/sample - loss: 12438.7679\n",
      "Epoch 23/40\n",
      "1030/1030 [==============================] - 0s 43us/sample - loss: 12730.9390\n",
      "Epoch 24/40\n",
      "1030/1030 [==============================] - 0s 43us/sample - loss: 14900.5639\n",
      "Epoch 25/40\n",
      "1030/1030 [==============================] - 0s 43us/sample - loss: 12546.2032\n",
      "Epoch 26/40\n",
      "1030/1030 [==============================] - 0s 43us/sample - loss: 12419.5549\n",
      "Epoch 27/40\n",
      "1030/1030 [==============================] - 0s 43us/sample - loss: 12582.3894\n",
      "Epoch 28/40\n",
      "1030/1030 [==============================] - 0s 39us/sample - loss: 12678.5381\n",
      "Epoch 29/40\n",
      "1030/1030 [==============================] - 0s 39us/sample - loss: 12680.8213\n",
      "Epoch 30/40\n",
      "1030/1030 [==============================] - 0s 105us/sample - loss: 14279.1663\n",
      "Epoch 31/40\n",
      "1030/1030 [==============================] - 0s 74us/sample - loss: 13848.2564\n",
      "Epoch 32/40\n",
      "1030/1030 [==============================] - 0s 54us/sample - loss: 14917.0772\n",
      "Epoch 33/40\n",
      "1030/1030 [==============================] - 0s 47us/sample - loss: 12330.3076\n",
      "Epoch 34/40\n",
      "1030/1030 [==============================] - 0s 47us/sample - loss: 13277.6612\n",
      "Epoch 35/40\n",
      "1030/1030 [==============================] - 0s 43us/sample - loss: 12019.8250\n",
      "Epoch 36/40\n",
      "1030/1030 [==============================] - 0s 43us/sample - loss: 12056.9149\n",
      "Epoch 37/40\n",
      "1030/1030 [==============================] - 0s 43us/sample - loss: 12304.5737\n",
      "Epoch 38/40\n",
      "1030/1030 [==============================] - 0s 47us/sample - loss: 12332.5896\n",
      "Epoch 39/40\n",
      "1030/1030 [==============================] - 0s 44us/sample - loss: 13922.9681\n",
      "Epoch 40/40\n",
      "1030/1030 [==============================] - 0s 45us/sample - loss: 12893.5298\n"
     ]
    },
    {
     "data": {
      "text/plain": [
       "<tensorflow.python.keras.callbacks.History at 0x2561881cb48>"
      ]
     },
     "execution_count": 14,
     "metadata": {},
     "output_type": "execute_result"
    }
   ],
   "source": [
    "model.fit(X,y_true,epochs=40)"
   ]
  },
  {
   "cell_type": "code",
   "execution_count": 15,
   "metadata": {},
   "outputs": [
    {
     "name": "stdout",
     "output_type": "stream",
     "text": [
      "WARNING:tensorflow:Falling back from v2 loop because of error: Failed to find data adapter that can handle input: <class 'pandas.core.series.Series'>, <class 'NoneType'>\n"
     ]
    }
   ],
   "source": [
    "y_pred=model.predict(X)"
   ]
  },
  {
   "cell_type": "code",
   "execution_count": 16,
   "metadata": {},
   "outputs": [
    {
     "data": {
      "text/plain": [
       "array([[252.60196],\n",
       "       [252.60196],\n",
       "       [311.50488],\n",
       "       ...,\n",
       "       [280.00073],\n",
       "       [264.73953],\n",
       "       [287.05124]], dtype=float32)"
      ]
     },
     "execution_count": 16,
     "metadata": {},
     "output_type": "execute_result"
    }
   ],
   "source": [
    "y_pred"
   ]
  },
  {
   "cell_type": "code",
   "execution_count": 18,
   "metadata": {},
   "outputs": [
    {
     "data": {
      "text/plain": [
       "[<matplotlib.lines.Line2D at 0x25618a68948>]"
      ]
     },
     "execution_count": 18,
     "metadata": {},
     "output_type": "execute_result"
    },
    {
     "data": {
      "image/png": "[encoded data removed]",
      "text/plain": [
       "<Figure size 432x288 with 1 Axes>"
      ]
     },
     "metadata": {
      "needs_background": "light"
     },
     "output_type": "display_data"
    }
   ],
   "source": [
    "data.plot(kind='scatter',\n",
    "         x='water',\n",
    "         y=\"cement\",\n",
    "         title='true plot')\n",
    "plt.plot(X,y_pred,color='red',linewidth=3)\n"
   ]
  },
  {
   "cell_type": "code",
   "execution_count": 19,
   "metadata": {},
   "outputs": [],
   "source": [
    "w,b=model.get_weights()"
   ]
  },
  {
   "cell_type": "code",
   "execution_count": 20,
   "metadata": {},
   "outputs": [
    {
     "data": {
      "text/plain": [
       "array([[0.8924686]], dtype=float32)"
      ]
     },
     "execution_count": 20,
     "metadata": {},
     "output_type": "execute_result"
    }
   ],
   "source": [
    "w"
   ]
  },
  {
   "cell_type": "code",
   "execution_count": 21,
   "metadata": {},
   "outputs": [
    {
     "data": {
      "text/plain": [
       "array([108.02204], dtype=float32)"
      ]
     },
     "execution_count": 21,
     "metadata": {},
     "output_type": "execute_result"
    }
   ],
   "source": [
    "b"
   ]
  },
  {
   "cell_type": "code",
   "execution_count": 24,
   "metadata": {},
   "outputs": [
    {
     "data": {
      "text/plain": [
       "array([[268.66638]], dtype=float32)"
      ]
     },
     "execution_count": 24,
     "metadata": {},
     "output_type": "execute_result"
    }
   ],
   "source": [
    "model.predict([[180]])"
   ]
  },
  {
   "cell_type": "code",
   "execution_count": null,
   "metadata": {},
   "outputs": [],
   "source": []
  }
 ],
 "metadata": {
  "kernelspec": {
   "display_name": "Python 3",
   "language": "python",
   "name": "python3"
  },
  "language_info": {
   "codemirror_mode": {
    "name": "ipython",
    "version": 3
   },
   "file_extension": ".py",
   "mimetype": "text/x-python",
   "name": "python",
   "nbconvert_exporter": "python",
   "pygments_lexer": "ipython3",
   "version": "3.7.4"
  }
 },
 "nbformat": 4,
 "nbformat_minor": 2
}
